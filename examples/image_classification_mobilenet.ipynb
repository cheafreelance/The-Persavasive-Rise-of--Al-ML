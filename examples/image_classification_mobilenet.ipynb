{
 "cells": [
  {
   "cell_type": "markdown",
   "metadata": {},
   "source": [
    "# 🖼️ Image Classification with MobileNetV2\n",
    "\n",
    "This notebook shows how to perform image classification using **MobileNetV2**, a lightweight CNN pre-trained on ImageNet. We'll load it with Keras and use it to classify sample images."
   ]
  },
  {
   "cell_type": "code",
   "execution_count": null,
   "metadata": {},
   "outputs": [],
   "source": [
    "# Step 1: Import libraries\n",
    "import tensorflow as tf\n",
    "from tensorflow.keras.applications import MobileNetV2\n",
    "from tensorflow.keras.applications.mobilenet_v2 import preprocess_input, decode_predictions\n",
    "from tensorflow.keras.preprocessing import image\n",
    "import numpy as np\n",
    "import matplotlib.pyplot as plt"
   ]
  },
  {
   "cell_type": "code",
   "execution_count": null,
   "metadata": {},
   "outputs": [],
   "source": [
    "# Step 2: Load MobileNetV2 model (pre-trained on ImageNet)\n",
    "model = MobileNetV2(weights='imagenet')"
   ]
  },
  {
   "cell_type": "markdown",
   "metadata": {},
   "source": [
    "### Upload your own image or use an example from the internet."
   ]
  },
  {
   "cell_type": "code",
   "execution_count": null,
   "metadata": {},
   "outputs": [],
   "source": [
    "# Step 3: Load an image from a URL\n",
    "import requests\n",
    "from PIL import Image\n",
    "from io import BytesIO\n",
    "\n",
    "url = 'https://upload.wikimedia.org/wikipedia/commons/9/9a/Pug_600.jpg'  # Dog image\n",
    "response = requests.get(url)\n",
    "img = Image.open(BytesIO(response.content)).resize((224, 224))\n",
    "plt.imshow(img)\n",
    "plt.axis('off')\n",
    "plt.title(\"Sample Image\")\n",
    "plt.show()"
   ]
  },
  {
   "cell_type": "code",
   "execution_count": null,
   "metadata": {},
   "outputs": [],
   "source": [
    "# Step 4: Preprocess and predict\n",
    "x = image.img_to_array(img)\n",
    "x = np.expand_dims(x, axis=0)\n",
    "x = preprocess_input(x)\n",
    "\n",
    "predictions = model.predict(x)\n",
    "decoded = decode_predictions(predictions, top=3)[0]\n",
    "\n",
    "for i, (imagenet_id, label, confidence) in enumerate(decoded):\n",
    "    print(f\"{i+1}: {label} ({confidence * 100:.2f}%)\")"
   ]
  }
 ],
 "metadata": {
  "colab": {
   "name": "image_classification_mobilenet.ipynb",
   "provenance": []
  },
  "kernelspec": {
   "display_name": "Python 3",
   "language": "python",
   "name": "python3"
  },
  "language_info": {
   "name": "python",
   "version": ""
  }
 },
 "nbformat": 4,
 "nbformat_minor": 5
}
